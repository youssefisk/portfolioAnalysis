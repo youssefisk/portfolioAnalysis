{
 "cells": [
  {
   "cell_type": "markdown",
   "metadata": {},
   "source": [
    "# MGFD10 - Assignment 2\n",
    "\n",
    "Date: February 9th, 2022 <br><br>\n",
    "1005004503 - Youssef Iskander  <br>\n",
    "1006435314 - Chin Tang Marcus Leung <br>\n",
    "1005176532 - Sakif Mostafa<br>\n",
    "1005149983 - Nick Ghalami<br>\n"
   ]
  },
  {
   "cell_type": "code",
   "execution_count": 1,
   "metadata": {},
   "outputs": [],
   "source": [
    "import pandas as pd\n",
    "import numpy as np"
   ]
  },
  {
   "cell_type": "code",
   "execution_count": 2,
   "metadata": {},
   "outputs": [
    {
     "data": {
      "text/html": [
       "<div>\n",
       "<style scoped>\n",
       "    .dataframe tbody tr th:only-of-type {\n",
       "        vertical-align: middle;\n",
       "    }\n",
       "\n",
       "    .dataframe tbody tr th {\n",
       "        vertical-align: top;\n",
       "    }\n",
       "\n",
       "    .dataframe thead th {\n",
       "        text-align: right;\n",
       "    }\n",
       "</style>\n",
       "<table border=\"1\" class=\"dataframe\">\n",
       "  <thead>\n",
       "    <tr style=\"text-align: right;\">\n",
       "      <th></th>\n",
       "      <th>datem</th>\n",
       "      <th>dateidx</th>\n",
       "      <th>permno</th>\n",
       "      <th>exchcd</th>\n",
       "      <th>mveq</th>\n",
       "      <th>ret</th>\n",
       "      <th>mom</th>\n",
       "      <th>size</th>\n",
       "      <th>beme</th>\n",
       "    </tr>\n",
       "  </thead>\n",
       "  <tbody>\n",
       "    <tr>\n",
       "      <th>0</th>\n",
       "      <td>196307</td>\n",
       "      <td>1</td>\n",
       "      <td>10006</td>\n",
       "      <td>1</td>\n",
       "      <td>134.402500</td>\n",
       "      <td>-4.516129e-02</td>\n",
       "      <td>0.698172</td>\n",
       "      <td>140.759375</td>\n",
       "      <td>1.199740</td>\n",
       "    </tr>\n",
       "    <tr>\n",
       "      <th>1</th>\n",
       "      <td>196307</td>\n",
       "      <td>1</td>\n",
       "      <td>10102</td>\n",
       "      <td>1</td>\n",
       "      <td>265.062375</td>\n",
       "      <td>-1.627907e-02</td>\n",
       "      <td>0.177440</td>\n",
       "      <td>269.448750</td>\n",
       "      <td>0.736371</td>\n",
       "    </tr>\n",
       "    <tr>\n",
       "      <th>2</th>\n",
       "      <td>196307</td>\n",
       "      <td>1</td>\n",
       "      <td>10137</td>\n",
       "      <td>1</td>\n",
       "      <td>475.070750</td>\n",
       "      <td>7.488032e-10</td>\n",
       "      <td>0.201556</td>\n",
       "      <td>475.070750</td>\n",
       "      <td>0.476324</td>\n",
       "    </tr>\n",
       "    <tr>\n",
       "      <th>3</th>\n",
       "      <td>196307</td>\n",
       "      <td>1</td>\n",
       "      <td>10145</td>\n",
       "      <td>1</td>\n",
       "      <td>1313.375250</td>\n",
       "      <td>2.319588e-02</td>\n",
       "      <td>0.335534</td>\n",
       "      <td>1283.601000</td>\n",
       "      <td>0.544203</td>\n",
       "    </tr>\n",
       "    <tr>\n",
       "      <th>4</th>\n",
       "      <td>196307</td>\n",
       "      <td>1</td>\n",
       "      <td>10161</td>\n",
       "      <td>1</td>\n",
       "      <td>516.406875</td>\n",
       "      <td>-9.404389e-02</td>\n",
       "      <td>0.354229</td>\n",
       "      <td>570.013125</td>\n",
       "      <td>0.519480</td>\n",
       "    </tr>\n",
       "    <tr>\n",
       "      <th>5</th>\n",
       "      <td>196307</td>\n",
       "      <td>1</td>\n",
       "      <td>10225</td>\n",
       "      <td>1</td>\n",
       "      <td>732.656250</td>\n",
       "      <td>-1.315789e-02</td>\n",
       "      <td>0.013285</td>\n",
       "      <td>742.425000</td>\n",
       "      <td>0.694987</td>\n",
       "    </tr>\n",
       "    <tr>\n",
       "      <th>6</th>\n",
       "      <td>196307</td>\n",
       "      <td>1</td>\n",
       "      <td>10241</td>\n",
       "      <td>1</td>\n",
       "      <td>733.033125</td>\n",
       "      <td>-2.156334e-02</td>\n",
       "      <td>0.125628</td>\n",
       "      <td>757.535625</td>\n",
       "      <td>0.751931</td>\n",
       "    </tr>\n",
       "    <tr>\n",
       "      <th>7</th>\n",
       "      <td>196307</td>\n",
       "      <td>1</td>\n",
       "      <td>10364</td>\n",
       "      <td>1</td>\n",
       "      <td>428.924000</td>\n",
       "      <td>5.658026e-03</td>\n",
       "      <td>0.499443</td>\n",
       "      <td>430.290000</td>\n",
       "      <td>1.152491</td>\n",
       "    </tr>\n",
       "    <tr>\n",
       "      <th>8</th>\n",
       "      <td>196307</td>\n",
       "      <td>1</td>\n",
       "      <td>10372</td>\n",
       "      <td>1</td>\n",
       "      <td>190.198125</td>\n",
       "      <td>2.272727e-02</td>\n",
       "      <td>0.184244</td>\n",
       "      <td>185.971500</td>\n",
       "      <td>1.931934</td>\n",
       "    </tr>\n",
       "    <tr>\n",
       "      <th>9</th>\n",
       "      <td>196307</td>\n",
       "      <td>1</td>\n",
       "      <td>10401</td>\n",
       "      <td>1</td>\n",
       "      <td>29141.732375</td>\n",
       "      <td>-6.217616e-03</td>\n",
       "      <td>0.222362</td>\n",
       "      <td>29324.058125</td>\n",
       "      <td>0.562632</td>\n",
       "    </tr>\n",
       "  </tbody>\n",
       "</table>\n",
       "</div>"
      ],
      "text/plain": [
       "    datem  dateidx  permno  exchcd          mveq           ret       mom  \\\n",
       "0  196307        1   10006       1    134.402500 -4.516129e-02  0.698172   \n",
       "1  196307        1   10102       1    265.062375 -1.627907e-02  0.177440   \n",
       "2  196307        1   10137       1    475.070750  7.488032e-10  0.201556   \n",
       "3  196307        1   10145       1   1313.375250  2.319588e-02  0.335534   \n",
       "4  196307        1   10161       1    516.406875 -9.404389e-02  0.354229   \n",
       "5  196307        1   10225       1    732.656250 -1.315789e-02  0.013285   \n",
       "6  196307        1   10241       1    733.033125 -2.156334e-02  0.125628   \n",
       "7  196307        1   10364       1    428.924000  5.658026e-03  0.499443   \n",
       "8  196307        1   10372       1    190.198125  2.272727e-02  0.184244   \n",
       "9  196307        1   10401       1  29141.732375 -6.217616e-03  0.222362   \n",
       "\n",
       "           size      beme  \n",
       "0    140.759375  1.199740  \n",
       "1    269.448750  0.736371  \n",
       "2    475.070750  0.476324  \n",
       "3   1283.601000  0.544203  \n",
       "4    570.013125  0.519480  \n",
       "5    742.425000  0.694987  \n",
       "6    757.535625  0.751931  \n",
       "7    430.290000  1.152491  \n",
       "8    185.971500  1.931934  \n",
       "9  29324.058125  0.562632  "
      ]
     },
     "execution_count": 2,
     "metadata": {},
     "output_type": "execute_result"
    }
   ],
   "source": [
    "dfData = pd.read_csv(\"cross_section_us_cx_ps_v1.csv\")\n",
    "dfData.head(10)"
   ]
  },
  {
   "cell_type": "code",
   "execution_count": 3,
   "metadata": {},
   "outputs": [],
   "source": [
    "dateArray = dfData[\"dateidx\"].unique()"
   ]
  },
  {
   "cell_type": "markdown",
   "metadata": {},
   "source": [
    "## Portfolios by Size"
   ]
  },
  {
   "cell_type": "code",
   "execution_count": 4,
   "metadata": {},
   "outputs": [],
   "source": [
    "dfSizePortfolios = pd.DataFrame(\n",
    "    columns=[\"Portfolio A\", \"Portfolio B\", \"Portfolio C\", \"Portfolio D\", \" Portfolio E\", \"Long A / Short E\"])\n",
    "size_long_short_count = 0"
   ]
  },
  {
   "cell_type": "code",
   "execution_count": 5,
   "metadata": {},
   "outputs": [],
   "source": [
    "for i in dateArray:\n",
    "    DataAtDate = dfData[dfData[\"dateidx\"] == i]\n",
    "\n",
    "    percentile20 = DataAtDate[\"size\"].quantile(0.2)\n",
    "    percentile40 = DataAtDate[\"size\"].quantile(0.4)\n",
    "    percentile60 = DataAtDate[\"size\"].quantile(0.6)\n",
    "    percentile80 = DataAtDate[\"size\"].quantile(0.8)\n",
    "    percentile100 = DataAtDate[\"size\"].quantile(1)\n",
    "\n",
    "    portfolioA = DataAtDate[DataAtDate[\"size\"] <= percentile20]\n",
    "    portfolioB = DataAtDate[(DataAtDate[\"size\"] <= percentile40) & (DataAtDate[\"size\"] > percentile20)]\n",
    "    portfolioC = DataAtDate[(DataAtDate[\"size\"] <= percentile60) & (DataAtDate[\"size\"] > percentile40)]\n",
    "    portfolioD = DataAtDate[(DataAtDate[\"size\"] <= percentile80) & (DataAtDate[\"size\"] > percentile60)]\n",
    "    portfolioE = DataAtDate[(DataAtDate[\"size\"] <= percentile100) & (DataAtDate[\"size\"] > percentile80)]\n",
    "    \n",
    "    longSmall_shortBig = portfolioA[\"ret\"].mean() - portfolioE[\"ret\"].mean()\n",
    "    if longSmall_shortBig > 0:\n",
    "        size_long_short_count += 1\n",
    "        \n",
    "    \n",
    "    \n",
    "    dfSizePortfolios.loc[i] = [portfolioA[\"ret\"].mean(), \n",
    "                               portfolioB[\"ret\"].mean(), portfolioC[\"ret\"].mean(), portfolioD[\"ret\"].mean(), portfolioE[\"ret\"].mean(), longSmall_shortBig]\n"
   ]
  },
  {
   "cell_type": "code",
   "execution_count": 6,
   "metadata": {},
   "outputs": [],
   "source": [
    "dfSizeStats = pd.DataFrame(columns=[\"avg_ret\", \"std\", \"std_error\", \"t_stat\"])"
   ]
  },
  {
   "cell_type": "code",
   "execution_count": 7,
   "metadata": {},
   "outputs": [
    {
     "data": {
      "text/html": [
       "<div>\n",
       "<style scoped>\n",
       "    .dataframe tbody tr th:only-of-type {\n",
       "        vertical-align: middle;\n",
       "    }\n",
       "\n",
       "    .dataframe tbody tr th {\n",
       "        vertical-align: top;\n",
       "    }\n",
       "\n",
       "    .dataframe thead th {\n",
       "        text-align: right;\n",
       "    }\n",
       "</style>\n",
       "<table border=\"1\" class=\"dataframe\">\n",
       "  <thead>\n",
       "    <tr style=\"text-align: right;\">\n",
       "      <th></th>\n",
       "      <th>avg_ret</th>\n",
       "      <th>std</th>\n",
       "      <th>std_error</th>\n",
       "      <th>t_stat</th>\n",
       "    </tr>\n",
       "  </thead>\n",
       "  <tbody>\n",
       "    <tr>\n",
       "      <th>Portfolio A</th>\n",
       "      <td>1.377013</td>\n",
       "      <td>6.202493</td>\n",
       "      <td>0.236125</td>\n",
       "      <td>5.831717</td>\n",
       "    </tr>\n",
       "    <tr>\n",
       "      <th>Portfolio B</th>\n",
       "      <td>1.165816</td>\n",
       "      <td>5.349041</td>\n",
       "      <td>0.203635</td>\n",
       "      <td>5.725042</td>\n",
       "    </tr>\n",
       "    <tr>\n",
       "      <th>Portfolio C</th>\n",
       "      <td>1.144110</td>\n",
       "      <td>4.891836</td>\n",
       "      <td>0.186229</td>\n",
       "      <td>6.143566</td>\n",
       "    </tr>\n",
       "    <tr>\n",
       "      <th>Portfolio D</th>\n",
       "      <td>0.995292</td>\n",
       "      <td>4.608590</td>\n",
       "      <td>0.175446</td>\n",
       "      <td>5.672924</td>\n",
       "    </tr>\n",
       "    <tr>\n",
       "      <th>Portfolio E</th>\n",
       "      <td>0.911301</td>\n",
       "      <td>4.446101</td>\n",
       "      <td>0.169260</td>\n",
       "      <td>5.384027</td>\n",
       "    </tr>\n",
       "    <tr>\n",
       "      <th>Long A / Short E</th>\n",
       "      <td>0.465712</td>\n",
       "      <td>3.627103</td>\n",
       "      <td>0.138081</td>\n",
       "      <td>3.372734</td>\n",
       "    </tr>\n",
       "  </tbody>\n",
       "</table>\n",
       "</div>"
      ],
      "text/plain": [
       "                   avg_ret       std  std_error    t_stat\n",
       "Portfolio A       1.377013  6.202493   0.236125  5.831717\n",
       "Portfolio B       1.165816  5.349041   0.203635  5.725042\n",
       "Portfolio C       1.144110  4.891836   0.186229  6.143566\n",
       "Portfolio D       0.995292  4.608590   0.175446  5.672924\n",
       " Portfolio E      0.911301  4.446101   0.169260  5.384027\n",
       "Long A / Short E  0.465712  3.627103   0.138081  3.372734"
      ]
     },
     "execution_count": 7,
     "metadata": {},
     "output_type": "execute_result"
    }
   ],
   "source": [
    "for col in dfSizePortfolios:\n",
    "    size_mean = dfSizePortfolios[col].mean() * 100\n",
    "    size_std = dfSizePortfolios[col].std() * 100\n",
    "    size_stde = size_std / (dfSizePortfolios.shape[0] ** 0.5)\n",
    "    size_t_stat = (size_mean - 0)/size_stde\n",
    "    dfSizeStats.loc[col] = [size_mean, size_std, size_stde, size_t_stat]\n",
    "dfSizeStats.head(6)"
   ]
  },
  {
   "cell_type": "markdown",
   "metadata": {},
   "source": [
    "### How many times has the long-short strategy worked with size?"
   ]
  },
  {
   "cell_type": "code",
   "execution_count": 8,
   "metadata": {},
   "outputs": [
    {
     "name": "stdout",
     "output_type": "stream",
     "text": [
      "The Long - Short strategy is profitable with size 383 out of 690 months. This represents  55.507246376811594 % of the time\n",
      "There is no guarantee of a profit, therefore it is not an arbitrage opportunity\n"
     ]
    }
   ],
   "source": [
    "size_fraction = size_long_short_count / dfSizePortfolios[\"Portfolio A\"].count()\n",
    "print(\"The Long - Short strategy is profitable with size\", size_long_short_count, \"out of\", dfSizePortfolios[\"Portfolio A\"].count(),\n",
    "      \"months. This represents \", size_fraction * 100.00, \"% of the time\")\n",
    "print(\"There is no guarantee of a profit, therefore it is not an arbitrage opportunity\")"
   ]
  },
  {
   "cell_type": "markdown",
   "metadata": {},
   "source": [
    "## Portfolios by Book-to-Market Ratio"
   ]
  },
  {
   "cell_type": "code",
   "execution_count": 9,
   "metadata": {},
   "outputs": [],
   "source": [
    "dfBMPortfolios = pd.DataFrame(columns=[\"Portfolio A\", \"Portfolio B\", \"Portfolio C\", \"Portfolio D\", \"Portfolio E\", \"Long E / Short A\"])\n",
    "BM_long_short_count = 0"
   ]
  },
  {
   "cell_type": "code",
   "execution_count": 10,
   "metadata": {},
   "outputs": [],
   "source": [
    "for i in dateArray:\n",
    "    DataAtDate = dfData[dfData[\"dateidx\"] == i]\n",
    "\n",
    "    percentile20 = DataAtDate[\"beme\"].quantile(0.2)\n",
    "    percentile40 = DataAtDate[\"beme\"].quantile(0.4)\n",
    "    percentile60 = DataAtDate[\"beme\"].quantile(0.6)\n",
    "    percentile80 = DataAtDate[\"beme\"].quantile(0.8)\n",
    "    percentile100 = DataAtDate[\"beme\"].quantile(1)\n",
    "\n",
    "    portfolioA = DataAtDate[DataAtDate[\"beme\"] <= percentile20]\n",
    "    portfolioB = DataAtDate[(DataAtDate[\"beme\"] <= percentile40) & (DataAtDate[\"beme\"] > percentile20)]\n",
    "    portfolioC = DataAtDate[(DataAtDate[\"beme\"] <= percentile60) & (DataAtDate[\"beme\"] > percentile40)]\n",
    "    portfolioD = DataAtDate[(DataAtDate[\"beme\"] <= percentile80) & (DataAtDate[\"beme\"] > percentile60)]\n",
    "    portfolioE = DataAtDate[(DataAtDate[\"beme\"] <= percentile100) & (DataAtDate[\"beme\"] > percentile80)]\n",
    "    \n",
    "    longE_shortA = portfolioE[\"ret\"].mean() - portfolioA[\"ret\"].mean()\n",
    "    \n",
    "    if longE_shortA > 0:\n",
    "        BM_long_short_count += 1\n",
    "\n",
    "\n",
    "    dfBMPortfolios.loc[i] = [portfolioA[\"ret\"].mean(), \n",
    "                               portfolioB[\"ret\"].mean(), portfolioC[\"ret\"].mean(), portfolioD[\"ret\"].mean(), portfolioE[\"ret\"].mean(), longE_shortA]\n"
   ]
  },
  {
   "cell_type": "code",
   "execution_count": 11,
   "metadata": {},
   "outputs": [],
   "source": [
    "dfBMStats = pd.DataFrame(columns=[\"avg_ret\", \"std\", \"std_error\", \"t_stat\"])"
   ]
  },
  {
   "cell_type": "code",
   "execution_count": 12,
   "metadata": {},
   "outputs": [
    {
     "data": {
      "text/html": [
       "<div>\n",
       "<style scoped>\n",
       "    .dataframe tbody tr th:only-of-type {\n",
       "        vertical-align: middle;\n",
       "    }\n",
       "\n",
       "    .dataframe tbody tr th {\n",
       "        vertical-align: top;\n",
       "    }\n",
       "\n",
       "    .dataframe thead th {\n",
       "        text-align: right;\n",
       "    }\n",
       "</style>\n",
       "<table border=\"1\" class=\"dataframe\">\n",
       "  <thead>\n",
       "    <tr style=\"text-align: right;\">\n",
       "      <th></th>\n",
       "      <th>avg_ret</th>\n",
       "      <th>std</th>\n",
       "      <th>std_error</th>\n",
       "      <th>t_stat</th>\n",
       "    </tr>\n",
       "  </thead>\n",
       "  <tbody>\n",
       "    <tr>\n",
       "      <th>Portfolio A</th>\n",
       "      <td>0.996872</td>\n",
       "      <td>5.092429</td>\n",
       "      <td>0.193865</td>\n",
       "      <td>5.142083</td>\n",
       "    </tr>\n",
       "    <tr>\n",
       "      <th>Portfolio B</th>\n",
       "      <td>0.986168</td>\n",
       "      <td>4.946952</td>\n",
       "      <td>0.188327</td>\n",
       "      <td>5.236458</td>\n",
       "    </tr>\n",
       "    <tr>\n",
       "      <th>Portfolio C</th>\n",
       "      <td>1.137000</td>\n",
       "      <td>4.915387</td>\n",
       "      <td>0.187126</td>\n",
       "      <td>6.076130</td>\n",
       "    </tr>\n",
       "    <tr>\n",
       "      <th>Portfolio D</th>\n",
       "      <td>1.179609</td>\n",
       "      <td>5.094770</td>\n",
       "      <td>0.193955</td>\n",
       "      <td>6.081882</td>\n",
       "    </tr>\n",
       "    <tr>\n",
       "      <th>Portfolio E</th>\n",
       "      <td>1.294948</td>\n",
       "      <td>5.582710</td>\n",
       "      <td>0.212530</td>\n",
       "      <td>6.093011</td>\n",
       "    </tr>\n",
       "    <tr>\n",
       "      <th>Long E / Short A</th>\n",
       "      <td>0.298076</td>\n",
       "      <td>3.511135</td>\n",
       "      <td>0.133667</td>\n",
       "      <td>2.229996</td>\n",
       "    </tr>\n",
       "  </tbody>\n",
       "</table>\n",
       "</div>"
      ],
      "text/plain": [
       "                   avg_ret       std  std_error    t_stat\n",
       "Portfolio A       0.996872  5.092429   0.193865  5.142083\n",
       "Portfolio B       0.986168  4.946952   0.188327  5.236458\n",
       "Portfolio C       1.137000  4.915387   0.187126  6.076130\n",
       "Portfolio D       1.179609  5.094770   0.193955  6.081882\n",
       "Portfolio E       1.294948  5.582710   0.212530  6.093011\n",
       "Long E / Short A  0.298076  3.511135   0.133667  2.229996"
      ]
     },
     "execution_count": 12,
     "metadata": {},
     "output_type": "execute_result"
    }
   ],
   "source": [
    "for col in dfBMPortfolios:\n",
    "    beme_mean = dfBMPortfolios[col].mean() * 100\n",
    "    beme_std = dfBMPortfolios[col].std() * 100\n",
    "    beme_stde = beme_std / (dfBMPortfolios.shape[0] ** 0.5)\n",
    "    beme_t_stat = (beme_mean - 0)/beme_stde\n",
    "    dfBMStats.loc[col] = [beme_mean, beme_std, beme_stde, beme_t_stat]\n",
    "dfBMStats.head(6)"
   ]
  },
  {
   "cell_type": "markdown",
   "metadata": {},
   "source": [
    "### How many times has the long-short strategy worked with book-to-market ratio?"
   ]
  },
  {
   "cell_type": "code",
   "execution_count": 13,
   "metadata": {},
   "outputs": [
    {
     "name": "stdout",
     "output_type": "stream",
     "text": [
      "The Long - Short strategy is profitable with size 354 out of 690 months. This represents  51.30434782608696 % of the time\n",
      "There is no guarantee of a profit, therefore it is not an arbitrage opportunity\n"
     ]
    }
   ],
   "source": [
    "BM_fraction = BM_long_short_count / dfBMPortfolios[\"Portfolio A\"].count()\n",
    "print(\"The Long - Short strategy is profitable with size\", BM_long_short_count, \"out of\", dfBMPortfolios[\"Portfolio A\"].count(),\n",
    "      \"months. This represents \", BM_fraction * 100.00, \"% of the time\")\n",
    "print(\"There is no guarantee of a profit, therefore it is not an arbitrage opportunity\")"
   ]
  },
  {
   "cell_type": "markdown",
   "metadata": {},
   "source": [
    "## Portfolios by Momentum"
   ]
  },
  {
   "cell_type": "code",
   "execution_count": 14,
   "metadata": {},
   "outputs": [],
   "source": [
    "dfMomPortfolios = pd.DataFrame(columns=[\"Portfolio A\", \"Portfolio B\", \"Portfolio C\", \"Portfolio D\", \"Portfolio E\", \"Long E / Short A\"])\n",
    "Mom_long_short_count = 0"
   ]
  },
  {
   "cell_type": "code",
   "execution_count": 15,
   "metadata": {},
   "outputs": [],
   "source": [
    "for i in dateArray:\n",
    "    DataAtDate = dfData[dfData[\"dateidx\"] == i]\n",
    "\n",
    "    percentile20 = DataAtDate[\"mom\"].quantile(0.2)\n",
    "    percentile40 = DataAtDate[\"mom\"].quantile(0.4)\n",
    "    percentile60 = DataAtDate[\"mom\"].quantile(0.6)\n",
    "    percentile80 = DataAtDate[\"mom\"].quantile(0.8)\n",
    "    percentile100 = DataAtDate[\"mom\"].quantile(1)\n",
    "\n",
    "    portfolioA = DataAtDate[DataAtDate[\"mom\"] <= percentile20]\n",
    "    portfolioB = DataAtDate[(DataAtDate[\"mom\"] <= percentile40) & (DataAtDate[\"mom\"] > percentile20)]\n",
    "    portfolioC = DataAtDate[(DataAtDate[\"mom\"] <= percentile60) & (DataAtDate[\"mom\"] > percentile40)]\n",
    "    portfolioD = DataAtDate[(DataAtDate[\"mom\"] <= percentile80) & (DataAtDate[\"mom\"] > percentile60)]\n",
    "    portfolioE = DataAtDate[(DataAtDate[\"mom\"] <= percentile100) & (DataAtDate[\"mom\"] > percentile80)]\n",
    "    \n",
    "    longE_shortA = portfolioE[\"ret\"].mean() - portfolioA[\"ret\"].mean()\n",
    "    \n",
    "    if longE_shortA > 0:\n",
    "        Mom_long_short_count += 1\n",
    "\n",
    "\n",
    "    dfMomPortfolios.loc[i] = [portfolioA[\"ret\"].mean(),\n",
    "                             portfolioB[\"ret\"].mean(), portfolioC[\"ret\"].mean(), portfolioD[\"ret\"].mean(), portfolioE[\"ret\"].mean(), longE_shortA]\n"
   ]
  },
  {
   "cell_type": "code",
   "execution_count": 16,
   "metadata": {},
   "outputs": [],
   "source": [
    "dfMomStats = pd.DataFrame(columns=[\"avg_ret\", \"std\", \"std_error\", \"t_stat\"])"
   ]
  },
  {
   "cell_type": "code",
   "execution_count": 17,
   "metadata": {},
   "outputs": [
    {
     "data": {
      "text/html": [
       "<div>\n",
       "<style scoped>\n",
       "    .dataframe tbody tr th:only-of-type {\n",
       "        vertical-align: middle;\n",
       "    }\n",
       "\n",
       "    .dataframe tbody tr th {\n",
       "        vertical-align: top;\n",
       "    }\n",
       "\n",
       "    .dataframe thead th {\n",
       "        text-align: right;\n",
       "    }\n",
       "</style>\n",
       "<table border=\"1\" class=\"dataframe\">\n",
       "  <thead>\n",
       "    <tr style=\"text-align: right;\">\n",
       "      <th></th>\n",
       "      <th>avg_ret</th>\n",
       "      <th>std</th>\n",
       "      <th>std_error</th>\n",
       "      <th>t_stat</th>\n",
       "    </tr>\n",
       "  </thead>\n",
       "  <tbody>\n",
       "    <tr>\n",
       "      <th>Portfolio A</th>\n",
       "      <td>0.970354</td>\n",
       "      <td>6.888609</td>\n",
       "      <td>0.262245</td>\n",
       "      <td>3.700182</td>\n",
       "    </tr>\n",
       "    <tr>\n",
       "      <th>Portfolio B</th>\n",
       "      <td>1.078607</td>\n",
       "      <td>5.092743</td>\n",
       "      <td>0.193877</td>\n",
       "      <td>5.563347</td>\n",
       "    </tr>\n",
       "    <tr>\n",
       "      <th>Portfolio C</th>\n",
       "      <td>1.073674</td>\n",
       "      <td>4.627592</td>\n",
       "      <td>0.176169</td>\n",
       "      <td>6.094554</td>\n",
       "    </tr>\n",
       "    <tr>\n",
       "      <th>Portfolio D</th>\n",
       "      <td>1.142727</td>\n",
       "      <td>4.537339</td>\n",
       "      <td>0.172734</td>\n",
       "      <td>6.615547</td>\n",
       "    </tr>\n",
       "    <tr>\n",
       "      <th>Portfolio E</th>\n",
       "      <td>1.329619</td>\n",
       "      <td>5.073160</td>\n",
       "      <td>0.193132</td>\n",
       "      <td>6.884514</td>\n",
       "    </tr>\n",
       "    <tr>\n",
       "      <th>Long E / Short A</th>\n",
       "      <td>0.359265</td>\n",
       "      <td>5.213369</td>\n",
       "      <td>0.198470</td>\n",
       "      <td>1.810179</td>\n",
       "    </tr>\n",
       "  </tbody>\n",
       "</table>\n",
       "</div>"
      ],
      "text/plain": [
       "                   avg_ret       std  std_error    t_stat\n",
       "Portfolio A       0.970354  6.888609   0.262245  3.700182\n",
       "Portfolio B       1.078607  5.092743   0.193877  5.563347\n",
       "Portfolio C       1.073674  4.627592   0.176169  6.094554\n",
       "Portfolio D       1.142727  4.537339   0.172734  6.615547\n",
       "Portfolio E       1.329619  5.073160   0.193132  6.884514\n",
       "Long E / Short A  0.359265  5.213369   0.198470  1.810179"
      ]
     },
     "execution_count": 17,
     "metadata": {},
     "output_type": "execute_result"
    }
   ],
   "source": [
    "for col in dfBMPortfolios:\n",
    "    mom_mean = dfMomPortfolios[col].mean() * 100\n",
    "    mom_std = dfMomPortfolios[col].std() * 100\n",
    "    mom_stde = mom_std / (dfMomPortfolios.shape[0] ** 0.5)\n",
    "    mom_t_stat = (mom_mean - 0)/mom_stde\n",
    "    dfMomStats.loc[col] = [mom_mean, mom_std, mom_stde, mom_t_stat]\n",
    "\n",
    "dfMomStats.head(6)"
   ]
  },
  {
   "cell_type": "markdown",
   "metadata": {},
   "source": [
    "### How many times has the long-short strategy worked with momentum?"
   ]
  },
  {
   "cell_type": "code",
   "execution_count": 18,
   "metadata": {},
   "outputs": [
    {
     "name": "stdout",
     "output_type": "stream",
     "text": [
      "The Long - Short strategy is profitable with size 404 out of 690 months. This represents  58.550724637681164 % of the time\n",
      "There is no guarantee of a profit, therefore it is not an arbitrage opportunity\n"
     ]
    }
   ],
   "source": [
    "Mom_fraction = Mom_long_short_count / dfMomPortfolios[\"Portfolio A\"].count()\n",
    "print(\"The Long - Short strategy is profitable with size\", Mom_long_short_count, \"out of\", dfMomPortfolios[\"Portfolio A\"].count(),\n",
    "      \"months. This represents \", Mom_fraction * 100.00, \"% of the time\")\n",
    "print(\"There is no guarantee of a profit, therefore it is not an arbitrage opportunity\")\n"
   ]
  }
 ],
 "metadata": {
  "interpreter": {
   "hash": "b69b58d1d88034e8d785d874bf36367714eaff498c57bb41beb3809780d96540"
  },
  "kernelspec": {
   "display_name": "Python 3.9.7 64-bit ('mgfd10': conda)",
   "language": "python",
   "name": "python3"
  },
  "language_info": {
   "codemirror_mode": {
    "name": "ipython",
    "version": 3
   },
   "file_extension": ".py",
   "mimetype": "text/x-python",
   "name": "python",
   "nbconvert_exporter": "python",
   "pygments_lexer": "ipython3",
   "version": "3.9.7"
  },
  "orig_nbformat": 4
 },
 "nbformat": 4,
 "nbformat_minor": 2
}
